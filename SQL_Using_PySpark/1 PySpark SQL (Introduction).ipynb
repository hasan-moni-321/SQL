{
 "cells": [
  {
   "cell_type": "code",
   "execution_count": 1,
   "metadata": {},
   "outputs": [],
   "source": [
    "from pyspark.sql import SparkSession\n",
    "\n"
   ]
  },
  {
   "cell_type": "markdown",
   "metadata": {},
   "source": [
    "### Creating APP"
   ]
  },
  {
   "cell_type": "code",
   "execution_count": 2,
   "metadata": {},
   "outputs": [],
   "source": [
    "spark = SparkSession.builder \\\n",
    "    .master(\"local\") \\\n",
    "    .appName(\"Bangladesh India Cricket\") \\\n",
    "    .config(\"spark.some.config.option\", \"some-value\") \\\n",
    "    .getOrCreate()"
   ]
  },
  {
   "cell_type": "code",
   "execution_count": null,
   "metadata": {},
   "outputs": [],
   "source": []
  },
  {
   "cell_type": "markdown",
   "metadata": {},
   "source": [
    "##### Reading dataset"
   ]
  },
  {
   "cell_type": "code",
   "execution_count": 140,
   "metadata": {},
   "outputs": [],
   "source": [
    "dataset = spark.read.csv('/home/hasan/DATA SET/datasets_33080_43333_car data.csv', header=True)\n"
   ]
  },
  {
   "cell_type": "code",
   "execution_count": null,
   "metadata": {},
   "outputs": [],
   "source": []
  },
  {
   "cell_type": "markdown",
   "metadata": {},
   "source": [
    "##### Initializing Dataset"
   ]
  },
  {
   "cell_type": "code",
   "execution_count": 141,
   "metadata": {},
   "outputs": [
    {
     "name": "stdout",
     "output_type": "stream",
     "text": [
      "+-------------+----+-------------+-------------+----------+---------+-----------+------------+-----+\n",
      "|     Car_Name|Year|Selling_Price|Present_Price|Kms_Driven|Fuel_Type|Seller_Type|Transmission|Owner|\n",
      "+-------------+----+-------------+-------------+----------+---------+-----------+------------+-----+\n",
      "|         ritz|2014|         3.35|         5.59|     27000|   Petrol|     Dealer|      Manual|    0|\n",
      "|          sx4|2013|         4.75|         9.54|     43000|   Diesel|     Dealer|      Manual|    0|\n",
      "|         ciaz|2017|         7.25|         9.85|      6900|   Petrol|     Dealer|      Manual|    0|\n",
      "|      wagon r|2011|         2.85|         4.15|      5200|   Petrol|     Dealer|      Manual|    0|\n",
      "|        swift|2014|          4.6|         6.87|     42450|   Diesel|     Dealer|      Manual|    0|\n",
      "|vitara brezza|2018|         9.25|         9.83|      2071|   Diesel|     Dealer|      Manual|    0|\n",
      "|         ciaz|2015|         6.75|         8.12|     18796|   Petrol|     Dealer|      Manual|    0|\n",
      "|      s cross|2015|          6.5|         8.61|     33429|   Diesel|     Dealer|      Manual|    0|\n",
      "|         ciaz|2016|         8.75|         8.89|     20273|   Diesel|     Dealer|      Manual|    0|\n",
      "|         ciaz|2015|         7.45|         8.92|     42367|   Diesel|     Dealer|      Manual|    0|\n",
      "|     alto 800|2017|         2.85|          3.6|      2135|   Petrol|     Dealer|      Manual|    0|\n",
      "|         ciaz|2015|         6.85|        10.38|     51000|   Diesel|     Dealer|      Manual|    0|\n",
      "|         ciaz|2015|          7.5|         9.94|     15000|   Petrol|     Dealer|   Automatic|    0|\n",
      "|       ertiga|2015|          6.1|         7.71|     26000|   Petrol|     Dealer|      Manual|    0|\n",
      "|        dzire|2009|         2.25|         7.21|     77427|   Petrol|     Dealer|      Manual|    0|\n",
      "|       ertiga|2016|         7.75|        10.79|     43000|   Diesel|     Dealer|      Manual|    0|\n",
      "|       ertiga|2015|         7.25|        10.79|     41678|   Diesel|     Dealer|      Manual|    0|\n",
      "|       ertiga|2016|         7.75|        10.79|     43000|   Diesel|     Dealer|      Manual|    0|\n",
      "|      wagon r|2015|         3.25|         5.09|     35500|      CNG|     Dealer|      Manual|    0|\n",
      "|          sx4|2010|         2.65|         7.98|     41442|   Petrol|     Dealer|      Manual|    0|\n",
      "+-------------+----+-------------+-------------+----------+---------+-----------+------------+-----+\n",
      "only showing top 20 rows\n",
      "\n"
     ]
    }
   ],
   "source": [
    "#head of the dataset\n",
    "dataset.show()\n"
   ]
  },
  {
   "cell_type": "code",
   "execution_count": 142,
   "metadata": {},
   "outputs": [
    {
     "name": "stdout",
     "output_type": "stream",
     "text": [
      "root\n",
      " |-- Car_Name: string (nullable = true)\n",
      " |-- Year: string (nullable = true)\n",
      " |-- Selling_Price: string (nullable = true)\n",
      " |-- Present_Price: string (nullable = true)\n",
      " |-- Kms_Driven: string (nullable = true)\n",
      " |-- Fuel_Type: string (nullable = true)\n",
      " |-- Seller_Type: string (nullable = true)\n",
      " |-- Transmission: string (nullable = true)\n",
      " |-- Owner: string (nullable = true)\n",
      "\n"
     ]
    }
   ],
   "source": [
    "# checking data type and null value of the column\n",
    "dataset.printSchema()\n"
   ]
  },
  {
   "cell_type": "code",
   "execution_count": null,
   "metadata": {},
   "outputs": [],
   "source": []
  },
  {
   "cell_type": "markdown",
   "metadata": {},
   "source": [
    "##### Checking null value in every column"
   ]
  },
  {
   "cell_type": "code",
   "execution_count": 145,
   "metadata": {},
   "outputs": [
    {
     "name": "stdout",
     "output_type": "stream",
     "text": [
      "+--------+----+-------------+-------------+----------+---------+-----------+------------+-----+\n",
      "|Car_Name|Year|Selling_Price|Present_Price|Kms_Driven|Fuel_Type|Seller_Type|Transmission|Owner|\n",
      "+--------+----+-------------+-------------+----------+---------+-----------+------------+-----+\n",
      "|       0|   0|            0|            0|         0|        0|          0|           0|    0|\n",
      "+--------+----+-------------+-------------+----------+---------+-----------+------------+-----+\n",
      "\n"
     ]
    }
   ],
   "source": [
    "from pyspark.sql.functions import isnan, when, count, col\n",
    "\n",
    "dataset.select([count(when(isnan(c), c)).alias(c) for c in dataset.columns]).show()\n"
   ]
  },
  {
   "cell_type": "code",
   "execution_count": null,
   "metadata": {},
   "outputs": [],
   "source": []
  },
  {
   "cell_type": "code",
   "execution_count": null,
   "metadata": {},
   "outputs": [],
   "source": []
  },
  {
   "cell_type": "markdown",
   "metadata": {},
   "source": [
    "### Converting Dataset to SQL Query"
   ]
  },
  {
   "cell_type": "code",
   "execution_count": 161,
   "metadata": {},
   "outputs": [],
   "source": [
    "# Register the DataFrame as a SQL temporary view\n",
    "dataset.createOrReplaceTempView(\"car_dataset\")\n"
   ]
  },
  {
   "cell_type": "markdown",
   "metadata": {},
   "source": [
    "##### How to select Column in SQL"
   ]
  },
  {
   "cell_type": "code",
   "execution_count": 162,
   "metadata": {},
   "outputs": [
    {
     "name": "stdout",
     "output_type": "stream",
     "text": [
      "+-------------+----+-------------+-------------+----------+---------+-----------+------------+-----+\n",
      "|     Car_Name|Year|Selling_Price|Present_Price|Kms_Driven|Fuel_Type|Seller_Type|Transmission|Owner|\n",
      "+-------------+----+-------------+-------------+----------+---------+-----------+------------+-----+\n",
      "|         ritz|2014|         3.35|         5.59|     27000|   Petrol|     Dealer|      Manual|    0|\n",
      "|          sx4|2013|         4.75|         9.54|     43000|   Diesel|     Dealer|      Manual|    0|\n",
      "|         ciaz|2017|         7.25|         9.85|      6900|   Petrol|     Dealer|      Manual|    0|\n",
      "|      wagon r|2011|         2.85|         4.15|      5200|   Petrol|     Dealer|      Manual|    0|\n",
      "|        swift|2014|          4.6|         6.87|     42450|   Diesel|     Dealer|      Manual|    0|\n",
      "|vitara brezza|2018|         9.25|         9.83|      2071|   Diesel|     Dealer|      Manual|    0|\n",
      "|         ciaz|2015|         6.75|         8.12|     18796|   Petrol|     Dealer|      Manual|    0|\n",
      "|      s cross|2015|          6.5|         8.61|     33429|   Diesel|     Dealer|      Manual|    0|\n",
      "|         ciaz|2016|         8.75|         8.89|     20273|   Diesel|     Dealer|      Manual|    0|\n",
      "|         ciaz|2015|         7.45|         8.92|     42367|   Diesel|     Dealer|      Manual|    0|\n",
      "|     alto 800|2017|         2.85|          3.6|      2135|   Petrol|     Dealer|      Manual|    0|\n",
      "|         ciaz|2015|         6.85|        10.38|     51000|   Diesel|     Dealer|      Manual|    0|\n",
      "|         ciaz|2015|          7.5|         9.94|     15000|   Petrol|     Dealer|   Automatic|    0|\n",
      "|       ertiga|2015|          6.1|         7.71|     26000|   Petrol|     Dealer|      Manual|    0|\n",
      "|        dzire|2009|         2.25|         7.21|     77427|   Petrol|     Dealer|      Manual|    0|\n",
      "|       ertiga|2016|         7.75|        10.79|     43000|   Diesel|     Dealer|      Manual|    0|\n",
      "|       ertiga|2015|         7.25|        10.79|     41678|   Diesel|     Dealer|      Manual|    0|\n",
      "|       ertiga|2016|         7.75|        10.79|     43000|   Diesel|     Dealer|      Manual|    0|\n",
      "|      wagon r|2015|         3.25|         5.09|     35500|      CNG|     Dealer|      Manual|    0|\n",
      "|          sx4|2010|         2.65|         7.98|     41442|   Petrol|     Dealer|      Manual|    0|\n",
      "+-------------+----+-------------+-------------+----------+---------+-----------+------------+-----+\n",
      "only showing top 20 rows\n",
      "\n"
     ]
    }
   ],
   "source": [
    "#selecting all column\n",
    "spark.sql(\"select * from car_dataset\").show()\n"
   ]
  },
  {
   "cell_type": "code",
   "execution_count": 163,
   "metadata": {},
   "outputs": [
    {
     "name": "stdout",
     "output_type": "stream",
     "text": [
      "+-------------+\n",
      "|     Car_Name|\n",
      "+-------------+\n",
      "|         ritz|\n",
      "|          sx4|\n",
      "|         ciaz|\n",
      "|      wagon r|\n",
      "|        swift|\n",
      "|vitara brezza|\n",
      "|         ciaz|\n",
      "|      s cross|\n",
      "|         ciaz|\n",
      "|         ciaz|\n",
      "|     alto 800|\n",
      "|         ciaz|\n",
      "|         ciaz|\n",
      "|       ertiga|\n",
      "|        dzire|\n",
      "|       ertiga|\n",
      "|       ertiga|\n",
      "|       ertiga|\n",
      "|      wagon r|\n",
      "|          sx4|\n",
      "+-------------+\n",
      "only showing top 20 rows\n",
      "\n"
     ]
    }
   ],
   "source": [
    "#selecting a column\n",
    "spark.sql(\"select Car_Name from car_dataset\").show()\n"
   ]
  },
  {
   "cell_type": "code",
   "execution_count": 164,
   "metadata": {},
   "outputs": [
    {
     "name": "stdout",
     "output_type": "stream",
     "text": [
      "+-------------+-------------+\n",
      "|Selling_Price|Present_Price|\n",
      "+-------------+-------------+\n",
      "|         3.35|         5.59|\n",
      "|         4.75|         9.54|\n",
      "|         7.25|         9.85|\n",
      "|         2.85|         4.15|\n",
      "|          4.6|         6.87|\n",
      "|         9.25|         9.83|\n",
      "|         6.75|         8.12|\n",
      "|          6.5|         8.61|\n",
      "|         8.75|         8.89|\n",
      "|         7.45|         8.92|\n",
      "|         2.85|          3.6|\n",
      "|         6.85|        10.38|\n",
      "|          7.5|         9.94|\n",
      "|          6.1|         7.71|\n",
      "|         2.25|         7.21|\n",
      "|         7.75|        10.79|\n",
      "|         7.25|        10.79|\n",
      "|         7.75|        10.79|\n",
      "|         3.25|         5.09|\n",
      "|         2.65|         7.98|\n",
      "+-------------+-------------+\n",
      "only showing top 20 rows\n",
      "\n"
     ]
    }
   ],
   "source": [
    "#selecting two column\n",
    "spark.sql(\"select Selling_Price,Present_Price from car_dataset\").show()\n"
   ]
  },
  {
   "cell_type": "code",
   "execution_count": null,
   "metadata": {},
   "outputs": [],
   "source": []
  },
  {
   "cell_type": "markdown",
   "metadata": {},
   "source": [
    "### Use of where in SQL"
   ]
  },
  {
   "cell_type": "code",
   "execution_count": 165,
   "metadata": {},
   "outputs": [
    {
     "name": "stdout",
     "output_type": "stream",
     "text": [
      "+----+\n",
      "|Year|\n",
      "+----+\n",
      "|2014|\n",
      "|2014|\n",
      "|2014|\n",
      "|2014|\n",
      "|2014|\n",
      "|2014|\n",
      "|2014|\n",
      "|2014|\n",
      "|2014|\n",
      "|2014|\n",
      "|2014|\n",
      "|2014|\n",
      "|2014|\n",
      "|2014|\n",
      "|2014|\n",
      "|2014|\n",
      "|2014|\n",
      "|2014|\n",
      "|2014|\n",
      "|2014|\n",
      "+----+\n",
      "only showing top 20 rows\n",
      "\n"
     ]
    }
   ],
   "source": [
    "#selecting a specific value\n",
    "spark.sql(\"select Year from car_dataset where Year==2014\").show()\n"
   ]
  },
  {
   "cell_type": "code",
   "execution_count": 166,
   "metadata": {},
   "outputs": [
    {
     "name": "stdout",
     "output_type": "stream",
     "text": [
      "+----+-------------+\n",
      "|Year|Present_Price|\n",
      "+----+-------------+\n",
      "|2014|         5.59|\n",
      "|2014|         6.87|\n",
      "|2014|         3.46|\n",
      "|2014|         7.49|\n",
      "|2014|         9.95|\n",
      "|2014|         8.06|\n",
      "|2014|         3.98|\n",
      "|2014|         8.06|\n",
      "|2014|        12.04|\n",
      "|2014|          6.8|\n",
      "|2014|        35.96|\n",
      "|2014|        35.96|\n",
      "|2014|         6.95|\n",
      "|2014|         6.76|\n",
      "|2014|         8.93|\n",
      "|2014|         6.76|\n",
      "|2014|        16.09|\n",
      "|2014|         3.45|\n",
      "|2014|          2.4|\n",
      "|2014|          1.2|\n",
      "+----+-------------+\n",
      "only showing top 20 rows\n",
      "\n"
     ]
    }
   ],
   "source": [
    "#price in specific year\n",
    "spark.sql(\"select Year,Present_Price from car_dataset where Year==2014\").show()\n"
   ]
  },
  {
   "cell_type": "code",
   "execution_count": 167,
   "metadata": {},
   "outputs": [
    {
     "name": "stdout",
     "output_type": "stream",
     "text": [
      "+----+-----------+\n",
      "|Year|Seller_Type|\n",
      "+----+-----------+\n",
      "|2014|     Dealer|\n",
      "|2014|     Dealer|\n",
      "|2014|     Dealer|\n",
      "|2014|     Dealer|\n",
      "|2014|     Dealer|\n",
      "|2014|     Dealer|\n",
      "|2014|     Dealer|\n",
      "|2014|     Dealer|\n",
      "|2014|     Dealer|\n",
      "|2014|     Dealer|\n",
      "|2014|     Dealer|\n",
      "|2014|     Dealer|\n",
      "|2014|     Dealer|\n",
      "|2014|     Dealer|\n",
      "|2014|     Dealer|\n",
      "|2014|     Dealer|\n",
      "|2014|     Dealer|\n",
      "|2014|     Dealer|\n",
      "|2014|     Dealer|\n",
      "|2014|     Dealer|\n",
      "+----+-----------+\n",
      "only showing top 20 rows\n",
      "\n"
     ]
    }
   ],
   "source": [
    "# advance filtering\n",
    "spark.sql(\"select Year,Seller_Type from car_dataset where (Year==2014 AND Seller_Type=='Dealer')\").show()\n"
   ]
  },
  {
   "cell_type": "code",
   "execution_count": 168,
   "metadata": {},
   "outputs": [
    {
     "name": "stdout",
     "output_type": "stream",
     "text": [
      "+----+-----------+----------+\n",
      "|Year|Seller_Type|Kms_Driven|\n",
      "+----+-----------+----------+\n",
      "|2015|     Dealer|     51000|\n",
      "|2015|     Dealer|     61381|\n",
      "|2015|     Dealer|     68000|\n",
      "|2015|     Dealer|     60076|\n",
      "|2015|     Dealer|     60000|\n",
      "+----+-----------+----------+\n",
      "\n"
     ]
    }
   ],
   "source": [
    "# advance filtering\n",
    "spark.sql(\"select Year,Seller_Type,Kms_Driven from car_dataset where (Year==2015 AND Seller_Type=='Dealer' AND Kms_Driven>50000)\").show()\n"
   ]
  },
  {
   "cell_type": "code",
   "execution_count": null,
   "metadata": {},
   "outputs": [],
   "source": []
  },
  {
   "cell_type": "markdown",
   "metadata": {},
   "source": [
    "### Statistical SQL"
   ]
  },
  {
   "cell_type": "code",
   "execution_count": 169,
   "metadata": {},
   "outputs": [
    {
     "name": "stdout",
     "output_type": "stream",
     "text": [
      "+----------------------------------+\n",
      "|sum(CAST(Present_Price AS DOUBLE))|\n",
      "+----------------------------------+\n",
      "|                2296.1700000000005|\n",
      "+----------------------------------+\n",
      "\n"
     ]
    }
   ],
   "source": [
    "# summation of Present_Price\n",
    "spark.sql(\"select SUM(Present_Price) from car_dataset\").show()\n"
   ]
  },
  {
   "cell_type": "code",
   "execution_count": 170,
   "metadata": {},
   "outputs": [
    {
     "name": "stdout",
     "output_type": "stream",
     "text": [
      "+------------------+\n",
      "|max(Present_Price)|\n",
      "+------------------+\n",
      "|              92.6|\n",
      "+------------------+\n",
      "\n"
     ]
    }
   ],
   "source": [
    "# Maximum of Present_Price\n",
    "spark.sql(\"select MAX(Present_Price) from car_dataset\").show()\n"
   ]
  },
  {
   "cell_type": "code",
   "execution_count": 171,
   "metadata": {},
   "outputs": [
    {
     "name": "stdout",
     "output_type": "stream",
     "text": [
      "+----------------------------------+\n",
      "|avg(CAST(Present_Price AS DOUBLE))|\n",
      "+----------------------------------+\n",
      "|                 7.628471760797344|\n",
      "+----------------------------------+\n",
      "\n"
     ]
    }
   ],
   "source": [
    "# average of Present_Price\n",
    "spark.sql(\"select AVG(Present_Price) from car_dataset\").show()\n"
   ]
  },
  {
   "cell_type": "code",
   "execution_count": 172,
   "metadata": {},
   "outputs": [
    {
     "name": "stdout",
     "output_type": "stream",
     "text": [
      "+---------+\n",
      "|Fuel_Type|\n",
      "+---------+\n",
      "|   Diesel|\n",
      "|      CNG|\n",
      "|   Petrol|\n",
      "+---------+\n",
      "\n"
     ]
    }
   ],
   "source": [
    "#printing distinct element of a column\n",
    "spark.sql(\"select DISTINCT Fuel_Type from car_dataset \").show()\n"
   ]
  },
  {
   "cell_type": "code",
   "execution_count": 173,
   "metadata": {},
   "outputs": [
    {
     "name": "stdout",
     "output_type": "stream",
     "text": [
      "+----------------------------------+\n",
      "|sum(CAST(Present_Price AS DOUBLE))|\n",
      "+----------------------------------+\n",
      "|                 499.1000000000001|\n",
      "+----------------------------------+\n",
      "\n"
     ]
    }
   ],
   "source": [
    "#printing distinct element of a column\n",
    "spark.sql(\" select SUM(Present_Price) from car_dataset where Year=2015 \").show()\n"
   ]
  },
  {
   "cell_type": "markdown",
   "metadata": {},
   "source": [
    "### Some Complex query"
   ]
  },
  {
   "cell_type": "code",
   "execution_count": 174,
   "metadata": {},
   "outputs": [
    {
     "name": "stdout",
     "output_type": "stream",
     "text": [
      "+----------------------------------+\n",
      "|sum(CAST(Present_Price AS DOUBLE))|\n",
      "+----------------------------------+\n",
      "|                216.89999999999995|\n",
      "+----------------------------------+\n",
      "\n"
     ]
    }
   ],
   "source": [
    "#printing price of some specific car\n",
    "spark.sql(\" select SUM(Present_Price) from car_dataset where Car_Name IN ('ritz','sx4','ciaz','wagon r','swift','vitara brezza') \").show()\n"
   ]
  },
  {
   "cell_type": "code",
   "execution_count": 175,
   "metadata": {},
   "outputs": [
    {
     "name": "stdout",
     "output_type": "stream",
     "text": [
      "+-------------+----------------------------------+\n",
      "|     Car_Name|sum(CAST(Present_Price AS DOUBLE))|\n",
      "+-------------+----------------------------------+\n",
      "|corolla altis|                            281.32|\n",
      "|      wagon r|                              17.8|\n",
      "|  etios cross|                              23.9|\n",
      "|        creta|                              40.8|\n",
      "|          i10|                             22.83|\n",
      "| land cruiser|                              92.6|\n",
      "|       ertiga|                             57.74|\n",
      "|         brio|                             60.44|\n",
      "|        amaze|                 47.49999999999999|\n",
      "|       baleno|                              7.87|\n",
      "|         ciaz|                             87.81|\n",
      "|        dzire|                             30.53|\n",
      "|      s cross|                              8.61|\n",
      "|      corolla|                             12.35|\n",
      "|         city|                            306.59|\n",
      "|          sx4|                              48.4|\n",
      "|      etios g|                             20.36|\n",
      "|         jazz|                57.099999999999994|\n",
      "|          i20|                             64.85|\n",
      "|vitara brezza|                              9.83|\n",
      "+-------------+----------------------------------+\n",
      "only showing top 20 rows\n",
      "\n"
     ]
    }
   ],
   "source": [
    "#printing price of some specific car\n",
    "spark.sql(\" select Car_Name, SUM(Present_Price) from car_dataset where Present_Price>3 Group By Car_Name \").show()\n"
   ]
  },
  {
   "cell_type": "code",
   "execution_count": 176,
   "metadata": {},
   "outputs": [
    {
     "name": "stdout",
     "output_type": "stream",
     "text": [
      "+--------------+\n",
      "|      Car_Name|\n",
      "+--------------+\n",
      "|          ritz|\n",
      "|         swift|\n",
      "|      alto k10|\n",
      "|         swift|\n",
      "|        ertiga|\n",
      "|         dzire|\n",
      "|      alto k10|\n",
      "|         dzire|\n",
      "|          ciaz|\n",
      "|       etios g|\n",
      "|      fortuner|\n",
      "|      fortuner|\n",
      "|    etios liva|\n",
      "|    etios liva|\n",
      "|   etios cross|\n",
      "|       etios g|\n",
      "|        innova|\n",
      "|Hyosung GT250R|\n",
      "| KTM 390 Duke |\n",
      "| Honda CBR 150|\n",
      "+--------------+\n",
      "only showing top 20 rows\n",
      "\n"
     ]
    }
   ],
   "source": [
    "# multiple column with a condition\n",
    "spark.sql(\" select Car_Name from car_dataset where Year=2014\").show()\n"
   ]
  },
  {
   "cell_type": "code",
   "execution_count": 191,
   "metadata": {},
   "outputs": [
    {
     "name": "stdout",
     "output_type": "stream",
     "text": [
      "+------------------+\n",
      "|  price_difference|\n",
      "+------------------+\n",
      "|2.2399999999999998|\n",
      "| 4.789999999999999|\n",
      "|2.5999999999999996|\n",
      "|1.3000000000000003|\n",
      "|2.2700000000000005|\n",
      "+------------------+\n",
      "only showing top 5 rows\n",
      "\n"
     ]
    }
   ],
   "source": [
    "# multiple column with a condition\n",
    "spark.sql(\" select (Present_Price - Selling_Price) as price_difference from car_dataset \").show(5)\n"
   ]
  },
  {
   "cell_type": "code",
   "execution_count": 190,
   "metadata": {},
   "outputs": [
    {
     "name": "stdout",
     "output_type": "stream",
     "text": [
      "+------------+------------------+\n",
      "|maximum_year|seller_type_number|\n",
      "+------------+------------------+\n",
      "|        2018|               301|\n",
      "+------------+------------------+\n",
      "\n"
     ]
    }
   ],
   "source": [
    "# filterring with column name\n",
    "spark.sql(\"select max(Year) as maximum_year, count(Seller_Type) as seller_type_number from car_dataset\").show()\n"
   ]
  },
  {
   "cell_type": "code",
   "execution_count": 200,
   "metadata": {},
   "outputs": [
    {
     "name": "stdout",
     "output_type": "stream",
     "text": [
      "+------------+------------------+\n",
      "|maximum_year|seller_type_number|\n",
      "+------------+------------------+\n",
      "|        2018|                60|\n",
      "+------------+------------------+\n",
      "\n"
     ]
    }
   ],
   "source": [
    "# filterring with column name\n",
    "spark.sql(\"select max(Year) as maximum_year, count(Seller_Type) as seller_type_number from car_dataset where Fuel_Type=='Diesel' \").show()\n"
   ]
  },
  {
   "cell_type": "code",
   "execution_count": null,
   "metadata": {},
   "outputs": [],
   "source": []
  },
  {
   "cell_type": "markdown",
   "metadata": {},
   "source": [
    "### use of concat"
   ]
  },
  {
   "cell_type": "code",
   "execution_count": 205,
   "metadata": {},
   "outputs": [
    {
     "name": "stdout",
     "output_type": "stream",
     "text": [
      "+--------------------+\n",
      "|  name_and_fuel_type|\n",
      "+--------------------+\n",
      "|        ritz, Petrol|\n",
      "|         sx4, Diesel|\n",
      "|        ciaz, Petrol|\n",
      "|     wagon r, Petrol|\n",
      "|       swift, Diesel|\n",
      "|vitara brezza, Di...|\n",
      "|        ciaz, Petrol|\n",
      "|     s cross, Diesel|\n",
      "|        ciaz, Diesel|\n",
      "|        ciaz, Diesel|\n",
      "|    alto 800, Petrol|\n",
      "|        ciaz, Diesel|\n",
      "|        ciaz, Petrol|\n",
      "|      ertiga, Petrol|\n",
      "|       dzire, Petrol|\n",
      "|      ertiga, Diesel|\n",
      "|      ertiga, Diesel|\n",
      "|      ertiga, Diesel|\n",
      "|        wagon r, CNG|\n",
      "|         sx4, Petrol|\n",
      "+--------------------+\n",
      "only showing top 20 rows\n",
      "\n"
     ]
    }
   ],
   "source": [
    "# adding two column\n",
    "spark.sql(\"select concat(Car_Name,', ',Fuel_Type) as name_and_fuel_type from car_dataset\").show()\n"
   ]
  },
  {
   "cell_type": "code",
   "execution_count": null,
   "metadata": {},
   "outputs": [],
   "source": []
  },
  {
   "cell_type": "code",
   "execution_count": null,
   "metadata": {},
   "outputs": [],
   "source": []
  },
  {
   "cell_type": "code",
   "execution_count": null,
   "metadata": {},
   "outputs": [],
   "source": []
  },
  {
   "cell_type": "code",
   "execution_count": null,
   "metadata": {},
   "outputs": [],
   "source": []
  },
  {
   "cell_type": "code",
   "execution_count": null,
   "metadata": {},
   "outputs": [],
   "source": []
  },
  {
   "cell_type": "code",
   "execution_count": null,
   "metadata": {},
   "outputs": [],
   "source": []
  },
  {
   "cell_type": "code",
   "execution_count": null,
   "metadata": {},
   "outputs": [],
   "source": []
  },
  {
   "cell_type": "code",
   "execution_count": null,
   "metadata": {},
   "outputs": [],
   "source": []
  },
  {
   "cell_type": "code",
   "execution_count": null,
   "metadata": {},
   "outputs": [],
   "source": []
  },
  {
   "cell_type": "code",
   "execution_count": null,
   "metadata": {},
   "outputs": [],
   "source": []
  },
  {
   "cell_type": "code",
   "execution_count": null,
   "metadata": {},
   "outputs": [],
   "source": []
  },
  {
   "cell_type": "markdown",
   "metadata": {},
   "source": [
    "#### finding difference of two column"
   ]
  },
  {
   "cell_type": "code",
   "execution_count": 177,
   "metadata": {},
   "outputs": [],
   "source": [
    "from pyspark.sql.functions import col"
   ]
  },
  {
   "cell_type": "code",
   "execution_count": 178,
   "metadata": {},
   "outputs": [
    {
     "name": "stdout",
     "output_type": "stream",
     "text": [
      "+-------------------+\n",
      "|                sub|\n",
      "+-------------------+\n",
      "| 2.2399999999999998|\n",
      "|  4.789999999999999|\n",
      "| 2.5999999999999996|\n",
      "| 1.3000000000000003|\n",
      "| 2.2700000000000005|\n",
      "| 0.5800000000000001|\n",
      "| 1.3699999999999992|\n",
      "| 2.1099999999999994|\n",
      "|0.14000000000000057|\n",
      "| 1.4699999999999998|\n",
      "|               0.75|\n",
      "|  3.530000000000001|\n",
      "| 2.4399999999999995|\n",
      "| 1.6100000000000003|\n",
      "|               4.96|\n",
      "|  3.039999999999999|\n",
      "|  3.539999999999999|\n",
      "|  3.039999999999999|\n",
      "| 1.8399999999999999|\n",
      "|               5.33|\n",
      "+-------------------+\n",
      "only showing top 20 rows\n",
      "\n"
     ]
    }
   ],
   "source": [
    "difference_of_price=dataset.select(((col(\"Present_Price\") - col(\"Selling_Price\"))).alias(\"sub\"))\n",
    "difference_of_price.show()\n"
   ]
  },
  {
   "cell_type": "markdown",
   "metadata": {},
   "source": [
    "#### adding new column with original dataset"
   ]
  },
  {
   "cell_type": "code",
   "execution_count": 182,
   "metadata": {},
   "outputs": [
    {
     "name": "stdout",
     "output_type": "stream",
     "text": [
      "+-------------+----+-------------+-------------+----------+---------+-----------+------------+-----+------------------+\n",
      "|     Car_Name|Year|Selling_Price|Present_Price|Kms_Driven|Fuel_Type|Seller_Type|Transmission|Owner|               sum|\n",
      "+-------------+----+-------------+-------------+----------+---------+-----------+------------+-----+------------------+\n",
      "|         ritz|2014|         3.35|         5.59|     27000|   Petrol|     Dealer|      Manual|    0|2.2399999999999998|\n",
      "|          sx4|2013|         4.75|         9.54|     43000|   Diesel|     Dealer|      Manual|    0| 4.789999999999999|\n",
      "|         ciaz|2017|         7.25|         9.85|      6900|   Petrol|     Dealer|      Manual|    0|2.5999999999999996|\n",
      "|      wagon r|2011|         2.85|         4.15|      5200|   Petrol|     Dealer|      Manual|    0|1.3000000000000003|\n",
      "|        swift|2014|          4.6|         6.87|     42450|   Diesel|     Dealer|      Manual|    0|2.2700000000000005|\n",
      "|vitara brezza|2018|         9.25|         9.83|      2071|   Diesel|     Dealer|      Manual|    0|0.5800000000000001|\n",
      "|         ciaz|2015|         6.75|         8.12|     18796|   Petrol|     Dealer|      Manual|    0|1.3699999999999992|\n",
      "+-------------+----+-------------+-------------+----------+---------+-----------+------------+-----+------------------+\n",
      "only showing top 7 rows\n",
      "\n"
     ]
    }
   ],
   "source": [
    "dataset_with_new_column=dataset.withColumn(\"sum\", col(\"Present_Price\")-col(\"Selling_Price\"))\n",
    "dataset_with_new_column.show(7)\n"
   ]
  },
  {
   "cell_type": "code",
   "execution_count": null,
   "metadata": {},
   "outputs": [],
   "source": []
  },
  {
   "cell_type": "code",
   "execution_count": null,
   "metadata": {},
   "outputs": [],
   "source": []
  },
  {
   "cell_type": "code",
   "execution_count": null,
   "metadata": {},
   "outputs": [],
   "source": []
  },
  {
   "cell_type": "code",
   "execution_count": null,
   "metadata": {},
   "outputs": [],
   "source": []
  },
  {
   "cell_type": "code",
   "execution_count": null,
   "metadata": {},
   "outputs": [],
   "source": []
  }
 ],
 "metadata": {
  "kernelspec": {
   "display_name": "Python 3",
   "language": "python",
   "name": "python3"
  },
  "language_info": {
   "codemirror_mode": {
    "name": "ipython",
    "version": 3
   },
   "file_extension": ".py",
   "mimetype": "text/x-python",
   "name": "python",
   "nbconvert_exporter": "python",
   "pygments_lexer": "ipython3",
   "version": "3.7.5"
  }
 },
 "nbformat": 4,
 "nbformat_minor": 2
}
